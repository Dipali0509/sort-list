{
 "cells": [
  {
   "cell_type": "code",
   "execution_count": 7,
   "metadata": {},
   "outputs": [
    {
     "name": "stdout",
     "output_type": "stream",
     "text": [
      "Enter first num: 9\n",
      "Enter second num: 5\n",
      "Enter third num: 2\n",
      "[2, 5, 9]\n"
     ]
    }
   ],
   "source": [
    "a = int(input(\"Enter first num: \"))\n",
    "b = int(input(\"Enter second num: \"))\n",
    "c = int(input(\"Enter third num: \"))\n",
    "numbers = [a, b, c]\n",
    "numbers.sort()\n",
    "print(numbers)"
   ]
  }
 ],
 "metadata": {
  "kernelspec": {
   "display_name": "Python 3",
   "language": "python",
   "name": "python3"
  },
  "language_info": {
   "codemirror_mode": {
    "name": "ipython",
    "version": 3
   },
   "file_extension": ".py",
   "mimetype": "text/x-python",
   "name": "python",
   "nbconvert_exporter": "python",
   "pygments_lexer": "ipython3",
   "version": "3.8.3"
  }
 },
 "nbformat": 4,
 "nbformat_minor": 4
}
